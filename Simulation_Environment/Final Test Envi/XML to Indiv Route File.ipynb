{
 "cells": [
  {
   "attachments": {},
   "cell_type": "markdown",
   "metadata": {},
   "source": [
    "# Instructions\n",
    "1. Run the Scrip to get the raw vehicle data from Excel\n",
    "2. Add the directories to the dictionar vtype_dict\n",
    "3. Run the 2 Cells"
   ]
  },
  {
   "cell_type": "code",
   "execution_count": 14,
   "metadata": {},
   "outputs": [
    {
     "name": "stdout",
     "output_type": "stream",
     "text": [
      "Starting job\n",
      "Finished processing buses vtype as buses_route.xml\n",
      "Finished processing bicycle_tricycle vtype as bicycle_tricycle_route.xml\n",
      "Finished processing cars_SUV vtype as cars_SUV_route.xml\n",
      "Finished processing jeepney vtype as jeepney_route.xml\n",
      "Finished processing largeTrucks vtype as largeTrucks_route.xml\n",
      "Finished processing motorcycles_scooters vtype as motorcycles_scooters_route.xml\n",
      "Finished processing motorela vtype as motorela_route.xml\n",
      "Finished processing smallTrucks vtype as smallTrucks_route.xml\n",
      "Finished processing taxi vtype as taxi_route.xml\n",
      "Successfully added files to sumocfg\n"
     ]
    }
   ],
   "source": [
    "import xml.etree.ElementTree as ET\n",
    "import os\n",
    "from pathlib import Path\n",
    "\n",
    "\n",
    "vtype_dict = {\n",
    "    \"buses\": r\"Final Route Folder\\taxi_route.xml\",\n",
    "    \"bicycle_tricycle\" : r\"Final Route Folder\\bicycle_tricycle_route.xml\",\n",
    "    \"cars_SUV\" : r\"Final Route Folder\\cars_SUV_route.xml\",\n",
    "    \"jeepney\" : r\"Final Route Folder\\jeepney_route.xml\",\n",
    "    \"largeTrucks\" : r\"Final Route Folder\\largeTrucks_route.xml\",\n",
    "    \"motorcycles_scooters\": r\"Final Route Folder\\motorcycles_scooters_route.xml\",\n",
    "    \"motorela\": r\"Final Route Folder\\motorela_route.xml\",\n",
    "    \"smallTrucks\": r\"Final Route Folder\\smallTrucks_route.xml\",\n",
    "    \"taxi\": r\"Final Route Folder\\taxi_route.xml\",\n",
    "}\n",
    "\n",
    "#Get processed Files\n",
    "clean_files = []\n",
    "\n",
    "print(\"Starting job\")\n",
    "for vtype, v_dir in vtype_dict.items():\n",
    "    # Open original file\n",
    "    et = ET.parse(v_dir)\n",
    "\n",
    "    root = et.getroot()\n",
    "    for vehicle in root.iter('vehicle'):\n",
    "        vehicle.attrib['type']=vtype    #Add vtype\n",
    "\n",
    "    # new_tag = ET.SubElement(et.getroot(), \"vehicle\")\n",
    "    # new_tag.attrib['type'] = \"bicycle_tricycle\"\n",
    "    final_dir = f\"Final Vehicle Route/{vtype}_route.xml\"\n",
    "\n",
    "    et.write(final_dir)\n",
    "    clean_files.append(final_dir)\n",
    "    print(f\"Finished processing {vtype} vtype as {os.path.basename(final_dir)}\")\n",
    "\n",
    "#Add New Cleaned Files to cfg xml\n",
    "cfg_dir = Path(\"osm.sumocfg\")\n",
    "cfg = ET.parse(cfg_dir)\n",
    "\n",
    "root = cfg.getroot()\n",
    "\n",
    "for route_files in root.iter('route-files'):\n",
    "    route_files.attrib['value'] = \",\".join(clean_files) #Merge into one string\n",
    "\n",
    "cfg.write(cfg_dir)\n",
    "print(\"Successfully added files to sumocfg\")"
   ]
  }
 ],
 "metadata": {
  "kernelspec": {
   "display_name": "Python 3",
   "language": "python",
   "name": "python3"
  },
  "language_info": {
   "codemirror_mode": {
    "name": "ipython",
    "version": 3
   },
   "file_extension": ".py",
   "mimetype": "text/x-python",
   "name": "python",
   "nbconvert_exporter": "python",
   "pygments_lexer": "ipython3",
   "version": "3.9.16"
  },
  "orig_nbformat": 4,
  "vscode": {
   "interpreter": {
    "hash": "58837b1b657ea91009af8409fc244ae3b5ccf93ea980d6fb6b80adc5f697f4cc"
   }
  }
 },
 "nbformat": 4,
 "nbformat_minor": 2
}
