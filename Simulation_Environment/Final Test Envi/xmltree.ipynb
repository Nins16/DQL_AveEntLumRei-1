{
 "cells": [
  {
   "cell_type": "code",
   "execution_count": 47,
   "metadata": {},
   "outputs": [],
   "source": [
    "import xml.etree.ElementTree as ET\n",
    "import os\n",
    "\n",
    "dir = r\"Final Route Folder\\bicycle_tricycle_route.xml\"\n",
    "vtype = \"bicycle_tricycle\"\n",
    "output = \"bicycle_tricycleroute\"\n"
   ]
  },
  {
   "cell_type": "code",
   "execution_count": 48,
   "metadata": {},
   "outputs": [],
   "source": [
    "# Open original file\n",
    "et = ET.parse(dir)\n",
    "\n",
    "root = et.getroot()\n",
    "for vehicle in root.iter('vehicle'):\n",
    "    vehicle.attrib['type']=vtype\n",
    "\n",
    "# new_tag = ET.SubElement(et.getroot(), \"vehicle\")\n",
    "# new_tag.attrib['type'] = \"bicycle_tricycle\"\n",
    "\n",
    "et.write(f\"Final Vehicle Route/{output}.xml\")\n",
    "\n",
    "\n",
    "\n",
    "\n"
   ]
  },
  {
   "cell_type": "code",
   "execution_count": null,
   "metadata": {},
   "outputs": [],
   "source": []
  }
 ],
 "metadata": {
  "kernelspec": {
   "display_name": "Python 3",
   "language": "python",
   "name": "python3"
  },
  "language_info": {
   "codemirror_mode": {
    "name": "ipython",
    "version": 3
   },
   "file_extension": ".py",
   "mimetype": "text/x-python",
   "name": "python",
   "nbconvert_exporter": "python",
   "pygments_lexer": "ipython3",
   "version": "3.10.7"
  },
  "orig_nbformat": 4,
  "vscode": {
   "interpreter": {
    "hash": "58837b1b657ea91009af8409fc244ae3b5ccf93ea980d6fb6b80adc5f697f4cc"
   }
  }
 },
 "nbformat": 4,
 "nbformat_minor": 2
}
