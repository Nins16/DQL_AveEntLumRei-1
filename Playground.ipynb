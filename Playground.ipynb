{
 "cells": [
  {
   "cell_type": "code",
   "execution_count": 1,
   "metadata": {},
   "outputs": [
    {
     "name": "stdout",
     "output_type": "stream",
     "text": [
      "Traci and sumolib Net is running in background...\n"
     ]
    }
   ],
   "source": [
    "from sumolib import checkBinary  # noqa\n",
    "import sumolib\n",
    "import traci  # noqa\n",
    "import os\n",
    "import sys\n",
    "from pathlib import Path\n",
    "import traci\n",
    "\n",
    "try:\n",
    "    dir = Path(\"Simulation_Environment\\Main MADDPG\")\n",
    "    sumoBinary = checkBinary('sumo')\n",
    "    # sumoBinary = checkBinary('sumo-gui')\n",
    "    # we need to import python modules from the $SUMO_HOME/tools directory\n",
    "    if 'SUMO_HOME' in os.environ:\n",
    "        tools = os.path.join(os.environ['SUMO_HOME'], 'tools')\n",
    "        sys.path.append(tools)\n",
    "    else:\n",
    "        sys.exit(\"please declare environment variable 'SUMO_HOME'\")\n",
    "    traci.start([sumoBinary, \"-c\", f\"{dir}\\osm.sumocfg\",\n",
    "                            \"--tripinfo-output\", f\"{dir}\\\\Results\\\\tripinfo.xml\",  \"--start\"])\n",
    "    #start net\n",
    "    net = sumolib.net.readNet(Path(f\"{dir}\\\\osm.net.xml\"))\n",
    "except Exception as e:\n",
    "    print(e)\n",
    "\n",
    "print(\"Traci and sumolib Net is running in background...\")\n"
   ]
  },
  {
   "cell_type": "code",
   "execution_count": 3,
   "metadata": {},
   "outputs": [
    {
     "data": {
      "text/plain": [
       "(Logic(programID='0', type=0, currentPhaseIndex=0, phases=(Phase(duration=33.0, state='rrrrGGGrrrrrGGGg', minDur=33.0, maxDur=33.0, next=()), Phase(duration=6.0, state='rrrryyyrrrrryyyg', minDur=6.0, maxDur=6.0, next=()), Phase(duration=33.0, state='rrrrrrrGrrrrrrrG', minDur=33.0, maxDur=33.0, next=()), Phase(duration=6.0, state='rrrrrrryrrrrrrry', minDur=6.0, maxDur=6.0, next=()), Phase(duration=33.0, state='GGGgrrrrGGGgrrrr', minDur=33.0, maxDur=33.0, next=()), Phase(duration=6.0, state='yyyyrrrryyyyrrrr', minDur=6.0, maxDur=6.0, next=())), subParameter={}),)"
      ]
     },
     "execution_count": 3,
     "metadata": {},
     "output_type": "execute_result"
    }
   ],
   "source": [
    "trafficlight = traci.trafficlight.getIDList()[0]\n",
    "\n",
    "phase_idx = int(0)\n",
    "duration=float(60)\n",
    "\n",
    "# #Set the time on phase\n",
    "# traci.trafficlight.setPhase(trafficlight, phase_idx)\n",
    "# traci.trafficlight.setPhaseDuration(trafficlight, int(duration))\n",
    "\n",
    "traci.trafficlight.getCompleteRedYellowGreenDefinition(trafficlight)[0].getPhases()[0].duration = duration\n",
    "\n",
    "traci.trafficlight.getAllProgramLogics(trafficlight)"
   ]
  },
  {
   "cell_type": "code",
   "execution_count": 9,
   "metadata": {},
   "outputs": [
    {
     "data": {
      "text/plain": [
       "Logic(programID='0', type=0, currentPhaseIndex=0, phases=(Phase(duration=60, state='rrrrGGGrrrrrGGGg', minDur=33.0, maxDur=33.0, next=()), Phase(duration=6.0, state='rrrryyyrrrrryyyg', minDur=6.0, maxDur=6.0, next=()), Phase(duration=33.0, state='rrrrrrrGrrrrrrrG', minDur=33.0, maxDur=33.0, next=()), Phase(duration=6.0, state='rrrrrrryrrrrrrry', minDur=6.0, maxDur=6.0, next=()), Phase(duration=33.0, state='GGGgrrrrGGGgrrrr', minDur=33.0, maxDur=33.0, next=()), Phase(duration=6.0, state='yyyyrrrryyyyrrrr', minDur=6.0, maxDur=6.0, next=())), subParameter={})"
      ]
     },
     "execution_count": 9,
     "metadata": {},
     "output_type": "execute_result"
    }
   ],
   "source": [
    "program = traci.trafficlight.getAllProgramLogics(trafficlight)[0]\n",
    "program.phases[0].duration = 60\n",
    "program\n",
    "traci.trafficlight.setProgramLogic(trafficlight)"
   ]
  },
  {
   "cell_type": "code",
   "execution_count": 8,
   "metadata": {},
   "outputs": [],
   "source": [
    "import traci\n",
    "\n",
    "traci.close()"
   ]
  },
  {
   "cell_type": "code",
   "execution_count": null,
   "metadata": {},
   "outputs": [],
   "source": [
    "\n",
    "phases = traci.trafficlight.getCompleteRedYellowGreenDefinition('recto_osmena_tl')[0].getPhases()\n",
    "min_val = min([i.duration for i in phases])\n",
    "duration = [i.duration for i in phases if 'y' not in i.state]\n",
    "duration"
   ]
  },
  {
   "cell_type": "code",
   "execution_count": null,
   "metadata": {},
   "outputs": [],
   "source": [
    "import numpy as np\n",
    "x = np.round(np.hstack([[1,2,3],[4,5,6]])/5)\n",
    "x"
   ]
  },
  {
   "cell_type": "code",
   "execution_count": null,
   "metadata": {},
   "outputs": [],
   "source": [
    "tls =  'recto_osmena_tl'\n",
    "traci.trafficlight.getRedYellowGreenState(tls)\n",
    "traci.trafficlight.getCompleteRedYellowGreenDefinition(tls)[0].getPhases()[0].duration = 34\n",
    "traci.trafficlight.getCompleteRedYellowGreenDefinition(tls)[0].getPhase()"
   ]
  }
 ],
 "metadata": {
  "kernelspec": {
   "display_name": "Python 3",
   "language": "python",
   "name": "python3"
  },
  "language_info": {
   "codemirror_mode": {
    "name": "ipython",
    "version": 3
   },
   "file_extension": ".py",
   "mimetype": "text/x-python",
   "name": "python",
   "nbconvert_exporter": "python",
   "pygments_lexer": "ipython3",
   "version": "3.9.16"
  },
  "orig_nbformat": 4,
  "vscode": {
   "interpreter": {
    "hash": "d1471c46c2c215a5284611205c5ce23d369efc0d80ffa4516ad55da57e8a4832"
   }
  }
 },
 "nbformat": 4,
 "nbformat_minor": 2
}
